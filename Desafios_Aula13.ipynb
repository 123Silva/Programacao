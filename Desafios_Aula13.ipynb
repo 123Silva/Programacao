{
  "cells": [
    {
      "cell_type": "markdown",
      "metadata": {
        "id": "view-in-github",
        "colab_type": "text"
      },
      "source": [
        "<a href=\"https://colab.research.google.com/github/123Silva/Programacao/blob/main/Desafios_Aula13.ipynb\" target=\"_parent\"><img src=\"https://colab.research.google.com/assets/colab-badge.svg\" alt=\"Open In Colab\"/></a>"
      ]
    },
    {
      "cell_type": "code",
      "execution_count": null,
      "metadata": {
        "colab": {
          "base_uri": "https://localhost:8080/"
        },
        "id": "CCsBGnx7QzOf",
        "outputId": "4db1e71b-fc22-4ab7-bb41-7bffecf609a6"
      },
      "outputs": [
        {
          "name": "stdout",
          "output_type": "stream",
          "text": [
            "10\n",
            "9\n",
            "8\n",
            "7\n",
            "6\n",
            "5\n",
            "4\n",
            "3\n",
            "2\n",
            "1\n",
            "0\n",
            "-=-=-=-=-=-=-=-=\n",
            "BUM BUM POOW !!\n",
            "-=-=-=-=-=-=-=-=\n"
          ]
        }
      ],
      "source": [
        "# Exercício Python 46: Faça um programa que mostre na tela uma contagem regressiva para o estouro de fogos de artifício,\n",
        "# indo de 10 até 0, com uma pausa de 1 segundo entre eles.\n",
        "\n",
        "from time import sleep\n",
        "\n",
        "\n",
        "for c in range(10,-1,-1):\n",
        "    print(c)\n",
        "    sleep(1)\n",
        "print('-='*8)\n",
        "print('BUM BUM POOW !!')\n",
        "print('-='*8)\n",
        "\n"
      ]
    },
    {
      "cell_type": "code",
      "execution_count": null,
      "metadata": {
        "colab": {
          "base_uri": "https://localhost:8080/"
        },
        "id": "GKwLm572Dp75",
        "outputId": "819521fb-9d20-448d-cb7a-a73aa78ce40a"
      },
      "outputs": [
        {
          "name": "stdout",
          "output_type": "stream",
          "text": [
            "2 4 6 8 10 12 14 16 18 20 22 24 26 28 30 32 34 36 38 40 42 44 46 48 50 "
          ]
        }
      ],
      "source": [
        "# Exercício Python 47: Crie um programa que mostre na tela todos os números pares que estão no intervalo entre 1 e 50. \n",
        "\n",
        "for c in range (1,51):\n",
        "    if (c % 2 == 0 ):\n",
        "         \n",
        "\n",
        "     print(c, end=' ')"
      ]
    },
    {
      "cell_type": "code",
      "execution_count": null,
      "metadata": {
        "colab": {
          "base_uri": "https://localhost:8080/"
        },
        "id": "c6mXOVlLuXA8",
        "outputId": "e4f6321f-bf39-4b83-9aa5-481f40845f01"
      },
      "outputs": [
        {
          "name": "stdout",
          "output_type": "stream",
          "text": [
            "A soma de todos os numeros primos multiplos de 3 é : 20667 de tantos valores 83\n"
          ]
        }
      ],
      "source": [
        "#Exercício Python 48: Faça um programa que calcule a soma entre todos os números que são múltiplos de três e que se encontram no intervalo de 1 até 500.\n",
        "soma = 0\n",
        "cont = 0\n",
        "for m in range (1,501, 2):\n",
        "  if m % 3 == 0:\n",
        "      cont = cont + 1\n",
        "      soma = soma + m\n",
        "print('A soma de todos os numeros primos multiplos de 3 é : {} de tantos valores {}'.format(soma, cont))\n"
      ]
    },
    {
      "cell_type": "code",
      "execution_count": null,
      "metadata": {
        "colab": {
          "base_uri": "https://localhost:8080/"
        },
        "id": "0kKLKkoLhe-L",
        "outputId": "2809636f-ad25-4f31-e022-222266b5e8e2"
      },
      "outputs": [
        {
          "name": "stdout",
          "output_type": "stream",
          "text": [
            "Digite um numero para ver a sua tabuada: 6\n",
            " 6 x 0 = 0\n",
            " 6 x 1 = 6\n",
            " 6 x 2 = 12\n",
            " 6 x 3 = 18\n",
            " 6 x 4 = 24\n",
            " 6 x 5 = 30\n",
            " 6 x 6 = 36\n",
            " 6 x 7 = 42\n",
            " 6 x 8 = 48\n",
            " 6 x 9 = 54\n",
            " 6 x 10 = 60\n"
          ]
        }
      ],
      "source": [
        "#Exercício Python 49: Refaça o DESAFIO 9, mostrando a tabuada de um número que o usuário escolher, só que agora utilizando um laço for.\n",
        "\n",
        "\n",
        "num = int(input('Digite um numero para ver a sua tabuada: '))\n",
        " \n",
        "\n",
        "for c in range (11):\n",
        "     print(' {} x {} = {}'.format(num,c, num*c))\n",
        "        "
      ]
    },
    {
      "cell_type": "code",
      "execution_count": null,
      "metadata": {
        "colab": {
          "base_uri": "https://localhost:8080/"
        },
        "id": "lmUG17KGFO4Q",
        "outputId": "3fce21f5-b2ac-49e4-9bf8-6782d31801a6"
      },
      "outputs": [
        {
          "name": "stdout",
          "output_type": "stream",
          "text": [
            "Digite o 1 valor: 1\n",
            "Digite o 2 valor: 2\n",
            "Digite o 3 valor: 3\n",
            "Digite o 4 valor: 6\n",
            "Digite o 5 valor: 9\n",
            "Digite o 6 valor: 7\n",
            "Você informou 2 números pares e a soma foi 8\n"
          ]
        }
      ],
      "source": [
        "# Exercicio 50\n",
        "\n",
        "soma = 0 \n",
        "cont = 0 \n",
        "for c in range (1,7):\n",
        "    num = int(input('Digite o {} valor: '.format(c)))\n",
        "    if num % 2 == 0:\n",
        "       soma += num\n",
        "       cont += 1\n",
        "print('Você informou {} números pares e a soma foi {}'.format(cont,soma))"
      ]
    },
    {
      "cell_type": "code",
      "execution_count": null,
      "metadata": {
        "colab": {
          "base_uri": "https://localhost:8080/"
        },
        "id": "t3u8vjcVoPRy",
        "outputId": "895a5b7f-2d18-4c1b-d4dd-e608e810c4aa"
      },
      "outputs": [
        {
          "name": "stdout",
          "output_type": "stream",
          "text": [
            "Digite o primeiro termo: 15\n",
            "A razão: 2\n",
            "Quantos elementos terá: 6\n",
            "15 17 19 21 23 25 "
          ]
        }
      ],
      "source": [
        "#Exercício 51: Desenvolva um programa que leia o primeiro termo e a razão de uma PA. No final, mostre os 10 primeiros termos dessa progressão.\n",
        "# a(n) = a(1) + (n-1).r\n",
        "\n",
        "#a= pa , razao\n",
        "\n",
        "\n",
        "primeiro = int(input('Digite o primeiro termo: '))\n",
        "razao = int(input('A razão: '))\n",
        "n = int(input('Quantos elementos terá: '))\n",
        "soma = 0\n",
        "\n",
        "ultimo = primeiro + (n-1) * razao\n",
        "ultimo = ultimo + 1\n",
        "\n",
        "for var in range (primeiro, ultimo, razao):\n",
        "  print(var, end= ' ')\n",
        "soma = soma + var\n",
        "\n"
      ]
    },
    {
      "cell_type": "code",
      "execution_count": null,
      "metadata": {
        "colab": {
          "base_uri": "https://localhost:8080/"
        },
        "id": "3w3_nD4K9jzA",
        "outputId": "d36031fe-b068-4a25-bdff-967efa7a1147"
      },
      "outputs": [
        {
          "name": "stdout",
          "output_type": "stream",
          "text": [
            "Primeiro termo: 25\n",
            "Razão: 5\n",
            " 25 ->  30 ->  35 ->  40 ->  45 ->  50 ->  55 ->  60 ->  65 ->  70 -> ACABOU\n"
          ]
        }
      ],
      "source": [
        "# outra resolução exercicio 51:\n",
        "\n",
        "primeiro = int(input('Primeiro termo: '))\n",
        "razao = int(input('Razão: '))\n",
        "decimo = primeiro + (10-1) * razao\n",
        "\n",
        "for c in range(primeiro, decimo+razao, razao):\n",
        "    print(' {}'. format(c), end= ' -> ')\n",
        "print('ACABOU')"
      ]
    },
    {
      "cell_type": "code",
      "execution_count": null,
      "metadata": {
        "colab": {
          "base_uri": "https://localhost:8080/"
        },
        "id": "pQCHCuL6i4cf",
        "outputId": "3760d291-c00d-4b49-c6fa-6bb221f054f0"
      },
      "outputs": [
        {
          "name": "stdout",
          "output_type": "stream",
          "text": [
            "Digite um número: 13\n",
            "O numero 13 é primo\n"
          ]
        }
      ],
      "source": [
        "# Exercício Python 52: Faça um programa que leia um número inteiro e diga se ele é ou não um número primo. \n",
        "\n",
        "num = int(input('Digite um número: '))\n",
        "i= 0\n",
        "\n",
        "for count in range(2,num):\n",
        "    if (num % count == 0):\n",
        "        i += 1\n",
        "if (i==0):\n",
        "    print('O numero {} é primo'.format(num))\n",
        "\n",
        "else:\n",
        "      print('O numero {} não é primo'.format(num))"
      ]
    },
    {
      "cell_type": "code",
      "execution_count": null,
      "metadata": {
        "id": "ftJnN7P43xC7"
      },
      "outputs": [],
      "source": []
    },
    {
      "cell_type": "code",
      "execution_count": null,
      "metadata": {
        "colab": {
          "base_uri": "https://localhost:8080/"
        },
        "id": "RwnSLtw5xIH_",
        "outputId": "c33dcee1-ffce-49b1-ec7d-ba263a3c7c1c"
      },
      "outputs": [
        {
          "name": "stdout",
          "output_type": "stream",
          "text": [
            "Digite uma frase: amor a roma\n",
            "Você digitou : amor a roma\n",
            "A frase invertida é: amor a roma\n"
          ]
        }
      ],
      "source": [
        "# Exercício Python 53: Crie um programa que leia uma frase qualquer e diga se ela é um palíndromo, desconsiderando os espaços. Exemplos de palíndromos:\n",
        "\n",
        "frase = (input('Digite uma frase: '))\n",
        "print('Você digitou : {}'.format(frase))\n",
        "string = frase[::-1] \n",
        "print('A frase invertida é: {}'.format(string))\n"
      ]
    },
    {
      "cell_type": "code",
      "execution_count": null,
      "metadata": {
        "colab": {
          "base_uri": "https://localhost:8080/"
        },
        "id": "lzbtarccbf-J",
        "outputId": "a8c0cfb2-67aa-4282-bfb0-bed95783b735"
      },
      "outputs": [
        {
          "name": "stdout",
          "output_type": "stream",
          "text": [
            "Digite uma frase: teste\n",
            "O inverso de TESTE é ETSET\n",
            "A frase digitada não é um palíndromo\n"
          ]
        }
      ],
      "source": [
        "# resolução do exercicio 53 professor, \n",
        "frase= str(input('Digite uma frase: ')).strip().upper()\n",
        "palavras = frase.strip()\n",
        "junto = ''.join(palavras)\n",
        "inverso = ''\n",
        "for letra in range(len(junto) -1, -1, -1):\n",
        "    inverso += junto[letra]\n",
        "print ('O inverso de {} é {}'.format(junto,inverso))\n",
        "if inverso == junto:\n",
        "   print(' Temos um palíndromo')\n",
        "else: \n",
        "   print('A frase digitada não é um palíndromo')"
      ]
    },
    {
      "cell_type": "code",
      "execution_count": null,
      "metadata": {
        "colab": {
          "base_uri": "https://localhost:8080/"
        },
        "id": "W_EuJtaeEhcC",
        "outputId": "461de59a-23fa-4e8b-ceef-f6f445dfb405"
      },
      "outputs": [
        {
          "output_type": "stream",
          "name": "stdout",
          "text": [
            "Ano de Nascimento: 2000\n",
            "Ano de Nascimento: 1970\n",
            "Ano de Nascimento: 2005\n",
            "Ano de Nascimento: 1990\n",
            "Ano de Nascimento: 2010\n",
            "Ano de Nascimento: 1960\n",
            "Ano de Nascimento: 2020\n",
            "Ao todo tivemos 4 pessoas maiores\n",
            "Ao todo tivemos 3 pessoas menores\n"
          ]
        }
      ],
      "source": [
        "# Exercício Python 54: Crie um programa que leia o ano de nascimento de sete pessoas. No final, mostre quantas pessoas ainda \n",
        "# não atingiram a maioridade e quantas já são maiores.\n",
        "\n",
        "from datetime import date\n",
        "\n",
        "maior = 0\n",
        "menor = 0\n",
        "data_atual = date.today().year\n",
        "#print('VocÊ tem {} anos!!!'.format(idade))  \n",
        "\n",
        "for c in range (1,8):\n",
        "    data_nascimento= int(input('Ano de Nascimento: '))\n",
        "    idade = data_atual - data_nascimento\n",
        "    if idade >=21:\n",
        "      maior += 1\n",
        "      \n",
        "    else:\n",
        "      menor += 1\n",
        "print('Ao todo tivemos {} pessoas maiores'.format(maior)) \n",
        "print('Ao todo tivemos {} pessoas menores'.format(menor)) \n",
        "    \n",
        "    \n",
        "    \n",
        " "
      ]
    },
    {
      "cell_type": "code",
      "source": [
        "#Exercício Python 55: Faça um programa que leia o peso de cinco pessoas. No final, mostre qual foi o maior e o menor peso lidos.\n",
        "\n",
        "maior = 0\n",
        "menor = 0\n",
        "\n",
        "for c in range (1,6):\n",
        "  peso = float(input('Peso da {}ª pessoa '.format(c)))\n",
        "  if c == 1:\n",
        "      maior = peso\n",
        "      menor = peso\n",
        "  else:\n",
        "      if peso > maior:\n",
        "        maior = peso\n",
        "      if peso < menor:\n",
        "        menor = peso\n",
        "print('O maior peso lido foi : {} Kg'.format(maior))  \n",
        "print('O menor peso lido foi: {} Kg'. format(menor))"
      ],
      "metadata": {
        "colab": {
          "base_uri": "https://localhost:8080/"
        },
        "id": "QqytANB7m_X3",
        "outputId": "c8449b1a-0794-4823-9b8e-0edb003e9b03"
      },
      "execution_count": null,
      "outputs": [
        {
          "output_type": "stream",
          "name": "stdout",
          "text": [
            "Peso da 1ª pessoa 80.0\n",
            "Peso da 2ª pessoa 45.00\n",
            "Peso da 3ª pessoa 100.00\n",
            "Peso da 4ª pessoa 55.00\n",
            "Peso da 5ª pessoa 95.00\n",
            "O maior peso lido foi : 100.0 Kg\n",
            "O menor peso lido foi: 45.0 Kg\n"
          ]
        }
      ]
    },
    {
      "cell_type": "code",
      "source": [
        "#Exercício Python 56: Desenvolva um programa que leia o nome, idade e sexo de 4 pessoas. No final do programa, \n",
        "#mostre: a média de idade do grupo, qual é o nome do homem mais velho e quantas mulheres têm menos de 20 anos.\n",
        "\n",
        "\n",
        "total = 0\n",
        "media = 0 \n",
        "homemVelho = ''\n",
        "maior = 0 \n",
        "totalMulheres = 0\n",
        "\n",
        "\n",
        "for c in range(1,5):\n",
        "  print('----{}ª PESSOA ----'.format(c))\n",
        "  nome = str (input('Nome:')).strip()\n",
        "  idade =int(input('Idade: '))\n",
        "  sexo = str(input('Sexo [M/F]:')).strip()\n",
        "  \n",
        "  total = total + idade\n",
        "  \n",
        "  \n",
        "  if c == 1 and sexo in 'Mm':\n",
        "    maior = idade\n",
        "    homemVelho = nome\n",
        "\n",
        "  if sexo in 'Mm' and idade > maior:\n",
        "    maior = idade\n",
        "    homemVelho = nome\n",
        "\n",
        "  if sexo in 'Ff' and idade < 20:\n",
        "    totalMulheres +=1 \n",
        "\n",
        "media = total / 4\n",
        "print('média de idade do maior do grupo é : {}'.format(media))\n",
        "print('o Homem mais velho é {}'.format(homemVelho))\n",
        "print('ao todo temos {} mulheres com idade menor de 20 anos'.format(totalMulheres))\n",
        "m\n"
      ],
      "metadata": {
        "id": "aV1_zyGVtKm0",
        "colab": {
          "base_uri": "https://localhost:8080/"
        },
        "outputId": "667d8937-6b03-444e-9ed3-14fee42ba7f0"
      },
      "execution_count": null,
      "outputs": [
        {
          "output_type": "stream",
          "name": "stdout",
          "text": [
            "----1ª PESSOA ----\n",
            "Nome:jessica\n",
            "Idade: 23\n",
            "Sexo [M/F]:F\n",
            "----2ª PESSOA ----\n",
            "Nome:clarudio\n",
            "Idade: 12\n",
            "Sexo [M/F]:M\n",
            "----3ª PESSOA ----\n",
            "Nome:pedro\n",
            "Idade: 75\n",
            "Sexo [M/F]:M\n",
            "----4ª PESSOA ----\n",
            "Nome:aria\n",
            "Idade: 15\n",
            "Sexo [M/F]:F\n",
            "média de idade do maior do grupo é : 31.25\n",
            "o nome do mais velho é pedro\n",
            "ao todo temos 1 mulheres com idade menor de 20 anos\n"
          ]
        }
      ]
    }
  ],
  "metadata": {
    "colab": {
      "collapsed_sections": [],
      "name": "Desafios_Aula13",
      "provenance": [],
      "authorship_tag": "ABX9TyOFfTVdcWRW3ygfN/x3dveY",
      "include_colab_link": true
    },
    "kernelspec": {
      "display_name": "Python 3",
      "name": "python3"
    },
    "language_info": {
      "name": "python"
    }
  },
  "nbformat": 4,
  "nbformat_minor": 0
}