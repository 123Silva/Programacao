{
  "nbformat": 4,
  "nbformat_minor": 0,
  "metadata": {
    "colab": {
      "name": "Desafio14.ipynb",
      "provenance": [],
      "collapsed_sections": [],
      "authorship_tag": "ABX9TyPzITTkhyGDGdBi7JB62Odt",
      "include_colab_link": true
    },
    "kernelspec": {
      "name": "python3",
      "display_name": "Python 3"
    },
    "language_info": {
      "name": "python"
    }
  },
  "cells": [
    {
      "cell_type": "markdown",
      "metadata": {
        "id": "view-in-github",
        "colab_type": "text"
      },
      "source": [
        "<a href=\"https://colab.research.google.com/github/123Silva/Programacao/blob/main/Desafio14.ipynb\" target=\"_parent\"><img src=\"https://colab.research.google.com/assets/colab-badge.svg\" alt=\"Open In Colab\"/></a>"
      ]
    },
    {
      "cell_type": "code",
      "source": [
        "#Exercício Python 57: Faça um programa que leia o sexo de uma pessoa, mas só aceite os valores ‘M’ ou ‘F’. \n",
        "#Caso esteja errado, peça a digitação novamente até ter um valor correto.\n",
        "\n",
        "sexo = str(input('Informe seu sexo [M/F]: ')).strip().upper()[0]\n",
        "while sexo not in 'MmFf':\n",
        "    sexo = str(input('Dados inválidos. Por favor, informe seu sexo:')).strip().upper()[0]\n",
        "print('Sexo {} registrado com sucesso'.format(sexo))"
      ],
      "metadata": {
        "colab": {
          "base_uri": "https://localhost:8080/"
        },
        "id": "hks7fGK09no3",
        "outputId": "7d0fc141-02cf-4e49-c22f-83069e4c6f7f"
      },
      "execution_count": null,
      "outputs": [
        {
          "output_type": "stream",
          "name": "stdout",
          "text": [
            "Informe seu sexo [M/F]: r\n",
            "Dados inválidos. Por favor, informe seu sexo:f\n",
            "Sexo F registrado com sucesso\n"
          ]
        }
      ]
    },
    {
      "cell_type": "code",
      "source": [
        "# Exercício Python 58: Melhore o jogo do DESAFIO 28 onde o computador vai “pensar” em um número entre 0 e 10. Só que agora o jogador vai\n",
        "#  tentar adivinhar até acertar, mostrando  no final quantos palpites foram necessários para vencer.\n",
        "\n",
        "from random import randint\n",
        "\n",
        "computador = randint(0,10)\n",
        "\n",
        "print('-=-'*30)\n",
        "print('Vou pensar em um numero de 0 a 10,  Tente adivinhar')\n",
        "\n",
        "acertou = False\n",
        "palpites = 0\n",
        "while not acertou: \n",
        "    jogador = int(input('Digite seu palpite ? '))\n",
        "    palpites +=1\n",
        "    if jogador == computador:\n",
        "        acertou = True  \n",
        "    else:\n",
        "      if jogador < computador: \n",
        "          print('Mais ... Tente mais uma vez')\n",
        "      elif jogador > computador:\n",
        "          print('Menos ... Tente mais uma vez ')\n",
        "print('Acertou com  {} tantos  palpites'.format(palpites))\n",
        "print('-=-'*30)\n",
        "\n",
        "\n",
        "\n",
        "    \n"
      ],
      "metadata": {
        "colab": {
          "base_uri": "https://localhost:8080/"
        },
        "id": "1ManavpxKhB-",
        "outputId": "c660f81b-1616-43c7-8717-df6089a89364"
      },
      "execution_count": null,
      "outputs": [
        {
          "output_type": "stream",
          "name": "stdout",
          "text": [
            "-=--=--=--=--=--=--=--=--=--=--=--=--=--=--=--=--=--=--=--=--=--=--=--=--=--=--=--=--=--=-\n",
            "Vou pensar em um numero de 0 a 10,  Tente adivinhar\n",
            "Digite seu palpite ? 5\n",
            "Mais ... Tente mais uma vez\n",
            "Digite seu palpite ? 8\n",
            "Mais ... Tente mais uma vez\n",
            "Digite seu palpite ? 9\n",
            "Acertou com  3 tantos  palpites\n",
            "-=--=--=--=--=--=--=--=--=--=--=--=--=--=--=--=--=--=--=--=--=--=--=--=--=--=--=--=--=--=-\n"
          ]
        }
      ]
    },
    {
      "cell_type": "code",
      "source": [
        "from sre_constants import REPEAT\n",
        "''''Exercício Python 059: Crie um programa que leia dois valores e mostre um menu na tela:\n",
        "\n",
        "[ 1 ] somar\n",
        "[ 2 ] multiplicar\n",
        "[ 3 ] maior\n",
        "[ 4 ] novos números\n",
        "[ 5 ] sair do programa\n",
        "\n",
        "Seu programa deverá realizar a operação solicitada em cada caso'''\n",
        " \n",
        "\n",
        "n1 = int(input('Digite o 1° numero: '))\n",
        "n2 = int(input('Digite o 2° numero: '))\n",
        "opcao = 0 \n",
        "\n",
        "while opcao != 5:\n",
        "  print('''MENU:\n",
        "  [ 1 ] somar\n",
        "  [ 2 ] multiplicar\n",
        "  [ 3 ] maior\n",
        "  [ 4 ] novos números\n",
        "  [ 5 ] sair do programa''')\n",
        "\n",
        "  opcao = int(input('Digite a opçao desejada: '))\n",
        "  if opcao == 1:\n",
        "    soma = n1 + n2\n",
        "    print('A soma {} + {} = {}'.format(n1,n2,soma))\n",
        "\n",
        "  elif opcao == 2:\n",
        "    multiplica = n1 * n2\n",
        "    print('A mutiplicaçao de {} * {} = {}'.format(n1,n2,multiplica))\n",
        "\n",
        "  elif opcao == 3:\n",
        "    if n1 > n2:\n",
        "        maior = n1\n",
        "    else:\n",
        "        maior = n2\n",
        "    print('O maior numero é {}'.format(maior))\n",
        "    \n",
        "  elif opcao == 4:\n",
        "      n1 = int(input('Digite o 1° número: '))\n",
        "      n2 = int(input('Digite o 2° numero: '))\n",
        "    \n",
        "  elif opcao == 5:\n",
        "    print('Programa Finalizado !!!!')\n",
        "   \n",
        "  else:\n",
        "    print('Opçao inválida.  tente novamente !!!!')\n",
        "\n"
      ],
      "metadata": {
        "colab": {
          "base_uri": "https://localhost:8080/"
        },
        "id": "d4zHuHgRG94G",
        "outputId": "f09bc950-acd1-4436-e2b2-b5f806de2480"
      },
      "execution_count": null,
      "outputs": [
        {
          "output_type": "stream",
          "name": "stdout",
          "text": [
            "Digite o 1° numero: 4\n",
            "Digite o 2° numero: 5\n",
            "MENU:\n",
            "  [ 1 ] somar\n",
            "  [ 2 ] multiplicar\n",
            "  [ 3 ] maior\n",
            "  [ 4 ] novos números\n",
            "  [ 5 ] sair do programa\n",
            "Digite a opçao desejada: 3\n",
            "O maior numero é 5\n",
            "MENU:\n",
            "  [ 1 ] somar\n",
            "  [ 2 ] multiplicar\n",
            "  [ 3 ] maior\n",
            "  [ 4 ] novos números\n",
            "  [ 5 ] sair do programa\n",
            "Digite a opçao desejada: 4\n",
            "Digite o 1° número: 1\n",
            "Digite o 2° numero: 2\n",
            "MENU:\n",
            "  [ 1 ] somar\n",
            "  [ 2 ] multiplicar\n",
            "  [ 3 ] maior\n",
            "  [ 4 ] novos números\n",
            "  [ 5 ] sair do programa\n",
            "Digite a opçao desejada: 2\n",
            "A mutiplicaçao de 1 * 2 = 2\n",
            "MENU:\n",
            "  [ 1 ] somar\n",
            "  [ 2 ] multiplicar\n",
            "  [ 3 ] maior\n",
            "  [ 4 ] novos números\n",
            "  [ 5 ] sair do programa\n",
            "Digite a opçao desejada: 5\n",
            "Programa Finalizado !!!!\n"
          ]
        }
      ]
    }
  ]
}